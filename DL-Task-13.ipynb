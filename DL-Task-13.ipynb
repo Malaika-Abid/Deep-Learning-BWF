{
 "cells": [
  {
   "cell_type": "code",
   "execution_count": null,
   "id": "e3e9b3f1",
   "metadata": {},
   "outputs": [],
   "source": [
    "#Series and DataFrames"
   ]
  },
  {
   "cell_type": "code",
   "execution_count": 3,
   "id": "5f14f296",
   "metadata": {},
   "outputs": [],
   "source": [
    "import pandas as pd\n",
    "from pandas import Series"
   ]
  },
  {
   "cell_type": "code",
   "execution_count": 8,
   "id": "6cca0ba1",
   "metadata": {},
   "outputs": [
    {
     "data": {
      "text/plain": [
       "0    12\n",
       "1    23\n",
       "2     4\n",
       "3     2\n",
       "4    12\n",
       "5     4\n",
       "dtype: int64"
      ]
     },
     "execution_count": 8,
     "metadata": {},
     "output_type": "execute_result"
    }
   ],
   "source": [
    "obj = pd.Series([12,23,4,2,12,4])\n",
    "obj\n"
   ]
  },
  {
   "cell_type": "code",
   "execution_count": 9,
   "id": "d52f809c",
   "metadata": {},
   "outputs": [
    {
     "data": {
      "text/plain": [
       "array([12, 23,  4,  2, 12,  4], dtype=int64)"
      ]
     },
     "execution_count": 9,
     "metadata": {},
     "output_type": "execute_result"
    }
   ],
   "source": [
    "obj.values"
   ]
  },
  {
   "cell_type": "code",
   "execution_count": 10,
   "id": "e7c9bcde",
   "metadata": {},
   "outputs": [
    {
     "data": {
      "text/plain": [
       "RangeIndex(start=0, stop=6, step=1)"
      ]
     },
     "execution_count": 10,
     "metadata": {},
     "output_type": "execute_result"
    }
   ],
   "source": [
    "obj.index"
   ]
  },
  {
   "cell_type": "code",
   "execution_count": 15,
   "id": "62e93348",
   "metadata": {},
   "outputs": [
    {
     "data": {
      "text/plain": [
       "e    12\n",
       "b     3\n",
       "s     4\n",
       "w     2\n",
       "dtype: int64"
      ]
     },
     "execution_count": 15,
     "metadata": {},
     "output_type": "execute_result"
    }
   ],
   "source": [
    "obj2 =pd.Series([12,3,4,2],index=['e','b','s','w'])\n",
    "obj2"
   ]
  },
  {
   "cell_type": "code",
   "execution_count": 16,
   "id": "eee299ec",
   "metadata": {},
   "outputs": [
    {
     "data": {
      "text/plain": [
       "Index(['e', 'b', 's', 'w'], dtype='object')"
      ]
     },
     "execution_count": 16,
     "metadata": {},
     "output_type": "execute_result"
    }
   ],
   "source": [
    "obj2 .index"
   ]
  },
  {
   "cell_type": "code",
   "execution_count": 18,
   "id": "f827017f",
   "metadata": {},
   "outputs": [
    {
     "data": {
      "text/plain": [
       "array([12,  3,  4,  2], dtype=int64)"
      ]
     },
     "execution_count": 18,
     "metadata": {},
     "output_type": "execute_result"
    }
   ],
   "source": [
    "obj2.values"
   ]
  },
  {
   "cell_type": "code",
   "execution_count": 21,
   "id": "4581be3a",
   "metadata": {},
   "outputs": [
    {
     "data": {
      "text/plain": [
       "False"
      ]
     },
     "execution_count": 21,
     "metadata": {},
     "output_type": "execute_result"
    }
   ],
   "source": [
    "'m' in obj2"
   ]
  },
  {
   "cell_type": "code",
   "execution_count": 22,
   "id": "5683d59e",
   "metadata": {},
   "outputs": [
    {
     "data": {
      "text/plain": [
       "True"
      ]
     },
     "execution_count": 22,
     "metadata": {},
     "output_type": "execute_result"
    }
   ],
   "source": [
    "'b' in obj2"
   ]
  },
  {
   "cell_type": "code",
   "execution_count": 26,
   "id": "844961f7",
   "metadata": {},
   "outputs": [
    {
     "data": {
      "text/plain": [
       "10"
      ]
     },
     "execution_count": 26,
     "metadata": {},
     "output_type": "execute_result"
    }
   ],
   "source": [
    "obj2['s']\n"
   ]
  },
  {
   "cell_type": "code",
   "execution_count": 27,
   "id": "8cf21b77",
   "metadata": {},
   "outputs": [
    {
     "data": {
      "text/plain": [
       "e    12\n",
       "b     3\n",
       "s    10\n",
       "dtype: int64"
      ]
     },
     "execution_count": 27,
     "metadata": {},
     "output_type": "execute_result"
    }
   ],
   "source": [
    "obj2['s']=10\n",
    "obj2[['e','b','s']]"
   ]
  },
  {
   "cell_type": "code",
   "execution_count": 28,
   "id": "f4d0bb3f",
   "metadata": {},
   "outputs": [
    {
     "data": {
      "text/plain": [
       "e    36\n",
       "b     9\n",
       "s    30\n",
       "w     6\n",
       "dtype: int64"
      ]
     },
     "execution_count": 28,
     "metadata": {},
     "output_type": "execute_result"
    }
   ],
   "source": [
    "obj2*3"
   ]
  },
  {
   "cell_type": "code",
   "execution_count": 30,
   "id": "87543755",
   "metadata": {},
   "outputs": [
    {
     "data": {
      "text/plain": [
       "e    12\n",
       "dtype: int64"
      ]
     },
     "execution_count": 30,
     "metadata": {},
     "output_type": "execute_result"
    }
   ],
   "source": [
    "obj2[obj2>10]"
   ]
  },
  {
   "cell_type": "code",
   "execution_count": 32,
   "id": "72ec514f",
   "metadata": {},
   "outputs": [
    {
     "data": {
      "text/plain": [
       "e    162754.791419\n",
       "b        20.085537\n",
       "s     22026.465795\n",
       "w         7.389056\n",
       "dtype: float64"
      ]
     },
     "execution_count": 32,
     "metadata": {},
     "output_type": "execute_result"
    }
   ],
   "source": [
    "import numpy as np\n",
    "np.exp(obj2)"
   ]
  },
  {
   "cell_type": "code",
   "execution_count": 43,
   "id": "d3faf5c0",
   "metadata": {},
   "outputs": [
    {
     "data": {
      "text/plain": [
       "pen        11\n",
       "pencil      6\n",
       "colors    123\n",
       "dtype: int64"
      ]
     },
     "execution_count": 43,
     "metadata": {},
     "output_type": "execute_result"
    }
   ],
   "source": [
    "data= {'pen': 11, 'pencil':6, 'colors': 123}\n",
    "obj =pd.Series(data)\n",
    "obj"
   ]
  },
  {
   "cell_type": "code",
   "execution_count": 36,
   "id": "1f3372b8",
   "metadata": {},
   "outputs": [
    {
     "data": {
      "text/plain": [
       "pencil      6.0\n",
       "pen        11.0\n",
       "bag         NaN\n",
       "colors    123.0\n",
       "dtype: float64"
      ]
     },
     "execution_count": 36,
     "metadata": {},
     "output_type": "execute_result"
    }
   ],
   "source": [
    "sty=['pencil','pen','bag','colors']\n",
    "obj3=pd.Series(data,index=sty)\n",
    "\n",
    "obj3"
   ]
  },
  {
   "cell_type": "code",
   "execution_count": 37,
   "id": "f53c02ca",
   "metadata": {},
   "outputs": [
    {
     "data": {
      "text/plain": [
       "pencil    False\n",
       "pen       False\n",
       "bag        True\n",
       "colors    False\n",
       "dtype: bool"
      ]
     },
     "execution_count": 37,
     "metadata": {},
     "output_type": "execute_result"
    }
   ],
   "source": [
    "pd.isnull(obj3)"
   ]
  },
  {
   "cell_type": "code",
   "execution_count": 44,
   "id": "326befeb",
   "metadata": {},
   "outputs": [],
   "source": [
    "#Data Frames"
   ]
  },
  {
   "cell_type": "code",
   "execution_count": 75,
   "id": "988c2c7e",
   "metadata": {},
   "outputs": [],
   "source": [
    "data= {'sty': ['pens','colors','pencils','erasers','glue','pointers','stickers'],\n",
    "       'quantity': [10,122,23,43,34,5,43],\n",
    "      'country': ['Pak','Germany','Turkey','Indonesia','India','Saudia','Canada']}\n",
    "frame= pd.DataFrame(data)"
   ]
  },
  {
   "cell_type": "code",
   "execution_count": 76,
   "id": "2d74df61",
   "metadata": {},
   "outputs": [
    {
     "data": {
      "text/html": [
       "<div>\n",
       "<style scoped>\n",
       "    .dataframe tbody tr th:only-of-type {\n",
       "        vertical-align: middle;\n",
       "    }\n",
       "\n",
       "    .dataframe tbody tr th {\n",
       "        vertical-align: top;\n",
       "    }\n",
       "\n",
       "    .dataframe thead th {\n",
       "        text-align: right;\n",
       "    }\n",
       "</style>\n",
       "<table border=\"1\" class=\"dataframe\">\n",
       "  <thead>\n",
       "    <tr style=\"text-align: right;\">\n",
       "      <th></th>\n",
       "      <th>sty</th>\n",
       "      <th>quantity</th>\n",
       "      <th>country</th>\n",
       "    </tr>\n",
       "  </thead>\n",
       "  <tbody>\n",
       "    <tr>\n",
       "      <th>0</th>\n",
       "      <td>pens</td>\n",
       "      <td>10</td>\n",
       "      <td>Pak</td>\n",
       "    </tr>\n",
       "    <tr>\n",
       "      <th>1</th>\n",
       "      <td>colors</td>\n",
       "      <td>122</td>\n",
       "      <td>Germany</td>\n",
       "    </tr>\n",
       "    <tr>\n",
       "      <th>2</th>\n",
       "      <td>pencils</td>\n",
       "      <td>23</td>\n",
       "      <td>Turkey</td>\n",
       "    </tr>\n",
       "    <tr>\n",
       "      <th>3</th>\n",
       "      <td>erasers</td>\n",
       "      <td>43</td>\n",
       "      <td>Indonesia</td>\n",
       "    </tr>\n",
       "    <tr>\n",
       "      <th>4</th>\n",
       "      <td>glue</td>\n",
       "      <td>34</td>\n",
       "      <td>India</td>\n",
       "    </tr>\n",
       "    <tr>\n",
       "      <th>5</th>\n",
       "      <td>pointers</td>\n",
       "      <td>5</td>\n",
       "      <td>Saudia</td>\n",
       "    </tr>\n",
       "    <tr>\n",
       "      <th>6</th>\n",
       "      <td>stickers</td>\n",
       "      <td>43</td>\n",
       "      <td>Canada</td>\n",
       "    </tr>\n",
       "  </tbody>\n",
       "</table>\n",
       "</div>"
      ],
      "text/plain": [
       "        sty  quantity    country\n",
       "0      pens        10        Pak\n",
       "1    colors       122    Germany\n",
       "2   pencils        23     Turkey\n",
       "3   erasers        43  Indonesia\n",
       "4      glue        34      India\n",
       "5  pointers         5     Saudia\n",
       "6  stickers        43     Canada"
      ]
     },
     "execution_count": 76,
     "metadata": {},
     "output_type": "execute_result"
    }
   ],
   "source": [
    "frame"
   ]
  },
  {
   "cell_type": "code",
   "execution_count": 77,
   "id": "90d28701",
   "metadata": {},
   "outputs": [
    {
     "data": {
      "text/html": [
       "<div>\n",
       "<style scoped>\n",
       "    .dataframe tbody tr th:only-of-type {\n",
       "        vertical-align: middle;\n",
       "    }\n",
       "\n",
       "    .dataframe tbody tr th {\n",
       "        vertical-align: top;\n",
       "    }\n",
       "\n",
       "    .dataframe thead th {\n",
       "        text-align: right;\n",
       "    }\n",
       "</style>\n",
       "<table border=\"1\" class=\"dataframe\">\n",
       "  <thead>\n",
       "    <tr style=\"text-align: right;\">\n",
       "      <th></th>\n",
       "      <th>sty</th>\n",
       "      <th>quantity</th>\n",
       "      <th>country</th>\n",
       "    </tr>\n",
       "  </thead>\n",
       "  <tbody>\n",
       "    <tr>\n",
       "      <th>a</th>\n",
       "      <td>pens</td>\n",
       "      <td>10</td>\n",
       "      <td>Pak</td>\n",
       "    </tr>\n",
       "    <tr>\n",
       "      <th>b</th>\n",
       "      <td>colors</td>\n",
       "      <td>122</td>\n",
       "      <td>Germany</td>\n",
       "    </tr>\n",
       "    <tr>\n",
       "      <th>c</th>\n",
       "      <td>pencils</td>\n",
       "      <td>23</td>\n",
       "      <td>Turkey</td>\n",
       "    </tr>\n",
       "    <tr>\n",
       "      <th>d</th>\n",
       "      <td>erasers</td>\n",
       "      <td>43</td>\n",
       "      <td>Indonesia</td>\n",
       "    </tr>\n",
       "    <tr>\n",
       "      <th>e</th>\n",
       "      <td>glue</td>\n",
       "      <td>34</td>\n",
       "      <td>India</td>\n",
       "    </tr>\n",
       "    <tr>\n",
       "      <th>f</th>\n",
       "      <td>pointers</td>\n",
       "      <td>5</td>\n",
       "      <td>Saudia</td>\n",
       "    </tr>\n",
       "    <tr>\n",
       "      <th>g</th>\n",
       "      <td>stickers</td>\n",
       "      <td>43</td>\n",
       "      <td>Canada</td>\n",
       "    </tr>\n",
       "  </tbody>\n",
       "</table>\n",
       "</div>"
      ],
      "text/plain": [
       "        sty  quantity    country\n",
       "a      pens        10        Pak\n",
       "b    colors       122    Germany\n",
       "c   pencils        23     Turkey\n",
       "d   erasers        43  Indonesia\n",
       "e      glue        34      India\n",
       "f  pointers         5     Saudia\n",
       "g  stickers        43     Canada"
      ]
     },
     "execution_count": 77,
     "metadata": {},
     "output_type": "execute_result"
    }
   ],
   "source": [
    "frame.index=['a','b','c','d','e','f','g']\n",
    "frame"
   ]
  },
  {
   "cell_type": "code",
   "execution_count": 78,
   "id": "be4e7de4",
   "metadata": {},
   "outputs": [
    {
     "data": {
      "text/html": [
       "<div>\n",
       "<style scoped>\n",
       "    .dataframe tbody tr th:only-of-type {\n",
       "        vertical-align: middle;\n",
       "    }\n",
       "\n",
       "    .dataframe tbody tr th {\n",
       "        vertical-align: top;\n",
       "    }\n",
       "\n",
       "    .dataframe thead th {\n",
       "        text-align: right;\n",
       "    }\n",
       "</style>\n",
       "<table border=\"1\" class=\"dataframe\">\n",
       "  <thead>\n",
       "    <tr style=\"text-align: right;\">\n",
       "      <th></th>\n",
       "      <th>sty</th>\n",
       "      <th>quantity</th>\n",
       "      <th>country</th>\n",
       "    </tr>\n",
       "  </thead>\n",
       "  <tbody>\n",
       "    <tr>\n",
       "      <th>a</th>\n",
       "      <td>pens</td>\n",
       "      <td>10</td>\n",
       "      <td>Pak</td>\n",
       "    </tr>\n",
       "    <tr>\n",
       "      <th>b</th>\n",
       "      <td>colors</td>\n",
       "      <td>122</td>\n",
       "      <td>Germany</td>\n",
       "    </tr>\n",
       "    <tr>\n",
       "      <th>c</th>\n",
       "      <td>pencils</td>\n",
       "      <td>23</td>\n",
       "      <td>Turkey</td>\n",
       "    </tr>\n",
       "    <tr>\n",
       "      <th>d</th>\n",
       "      <td>erasers</td>\n",
       "      <td>43</td>\n",
       "      <td>Indonesia</td>\n",
       "    </tr>\n",
       "    <tr>\n",
       "      <th>e</th>\n",
       "      <td>glue</td>\n",
       "      <td>34</td>\n",
       "      <td>India</td>\n",
       "    </tr>\n",
       "  </tbody>\n",
       "</table>\n",
       "</div>"
      ],
      "text/plain": [
       "       sty  quantity    country\n",
       "a     pens        10        Pak\n",
       "b   colors       122    Germany\n",
       "c  pencils        23     Turkey\n",
       "d  erasers        43  Indonesia\n",
       "e     glue        34      India"
      ]
     },
     "execution_count": 78,
     "metadata": {},
     "output_type": "execute_result"
    }
   ],
   "source": [
    "frame.head()"
   ]
  },
  {
   "cell_type": "code",
   "execution_count": 79,
   "id": "c213804a",
   "metadata": {},
   "outputs": [
    {
     "data": {
      "text/html": [
       "<div>\n",
       "<style scoped>\n",
       "    .dataframe tbody tr th:only-of-type {\n",
       "        vertical-align: middle;\n",
       "    }\n",
       "\n",
       "    .dataframe tbody tr th {\n",
       "        vertical-align: top;\n",
       "    }\n",
       "\n",
       "    .dataframe thead th {\n",
       "        text-align: right;\n",
       "    }\n",
       "</style>\n",
       "<table border=\"1\" class=\"dataframe\">\n",
       "  <thead>\n",
       "    <tr style=\"text-align: right;\">\n",
       "      <th></th>\n",
       "      <th>country</th>\n",
       "      <th>sty</th>\n",
       "      <th>quantity</th>\n",
       "    </tr>\n",
       "  </thead>\n",
       "  <tbody>\n",
       "    <tr>\n",
       "      <th>0</th>\n",
       "      <td>Pak</td>\n",
       "      <td>pens</td>\n",
       "      <td>10</td>\n",
       "    </tr>\n",
       "    <tr>\n",
       "      <th>1</th>\n",
       "      <td>Germany</td>\n",
       "      <td>colors</td>\n",
       "      <td>122</td>\n",
       "    </tr>\n",
       "    <tr>\n",
       "      <th>2</th>\n",
       "      <td>Turkey</td>\n",
       "      <td>pencils</td>\n",
       "      <td>23</td>\n",
       "    </tr>\n",
       "    <tr>\n",
       "      <th>3</th>\n",
       "      <td>Indonesia</td>\n",
       "      <td>erasers</td>\n",
       "      <td>43</td>\n",
       "    </tr>\n",
       "    <tr>\n",
       "      <th>4</th>\n",
       "      <td>India</td>\n",
       "      <td>glue</td>\n",
       "      <td>34</td>\n",
       "    </tr>\n",
       "    <tr>\n",
       "      <th>5</th>\n",
       "      <td>Saudia</td>\n",
       "      <td>pointers</td>\n",
       "      <td>5</td>\n",
       "    </tr>\n",
       "    <tr>\n",
       "      <th>6</th>\n",
       "      <td>Canada</td>\n",
       "      <td>stickers</td>\n",
       "      <td>43</td>\n",
       "    </tr>\n",
       "  </tbody>\n",
       "</table>\n",
       "</div>"
      ],
      "text/plain": [
       "     country       sty  quantity\n",
       "0        Pak      pens        10\n",
       "1    Germany    colors       122\n",
       "2     Turkey   pencils        23\n",
       "3  Indonesia   erasers        43\n",
       "4      India      glue        34\n",
       "5     Saudia  pointers         5\n",
       "6     Canada  stickers        43"
      ]
     },
     "execution_count": 79,
     "metadata": {},
     "output_type": "execute_result"
    }
   ],
   "source": [
    "pd.DataFrame(data,columns=['country','sty','quantity'])\n"
   ]
  },
  {
   "cell_type": "code",
   "execution_count": 80,
   "id": "534ad306",
   "metadata": {},
   "outputs": [],
   "source": [
    "data= {'sty': ['pens','colors','pencils','erasers','glue','pointers','stickers'],\n",
    "       'quantity': [10,122,23,43,34,5,43],\n",
    "      'country': ['Pak','Germany','Turkey','Indonesia','India','Saudia','Canada']}\n",
    "frame= pd.DataFrame(data)"
   ]
  },
  {
   "cell_type": "code",
   "execution_count": 81,
   "id": "3fb11a92",
   "metadata": {},
   "outputs": [
    {
     "data": {
      "text/html": [
       "<div>\n",
       "<style scoped>\n",
       "    .dataframe tbody tr th:only-of-type {\n",
       "        vertical-align: middle;\n",
       "    }\n",
       "\n",
       "    .dataframe tbody tr th {\n",
       "        vertical-align: top;\n",
       "    }\n",
       "\n",
       "    .dataframe thead th {\n",
       "        text-align: right;\n",
       "    }\n",
       "</style>\n",
       "<table border=\"1\" class=\"dataframe\">\n",
       "  <thead>\n",
       "    <tr style=\"text-align: right;\">\n",
       "      <th></th>\n",
       "      <th>country</th>\n",
       "      <th>sty</th>\n",
       "      <th>quanity</th>\n",
       "    </tr>\n",
       "  </thead>\n",
       "  <tbody>\n",
       "    <tr>\n",
       "      <th>0</th>\n",
       "      <td>Pak</td>\n",
       "      <td>pens</td>\n",
       "      <td>NaN</td>\n",
       "    </tr>\n",
       "    <tr>\n",
       "      <th>1</th>\n",
       "      <td>Germany</td>\n",
       "      <td>colors</td>\n",
       "      <td>NaN</td>\n",
       "    </tr>\n",
       "    <tr>\n",
       "      <th>2</th>\n",
       "      <td>Turkey</td>\n",
       "      <td>pencils</td>\n",
       "      <td>NaN</td>\n",
       "    </tr>\n",
       "    <tr>\n",
       "      <th>3</th>\n",
       "      <td>Indonesia</td>\n",
       "      <td>erasers</td>\n",
       "      <td>NaN</td>\n",
       "    </tr>\n",
       "    <tr>\n",
       "      <th>4</th>\n",
       "      <td>India</td>\n",
       "      <td>glue</td>\n",
       "      <td>NaN</td>\n",
       "    </tr>\n",
       "    <tr>\n",
       "      <th>5</th>\n",
       "      <td>Saudia</td>\n",
       "      <td>pointers</td>\n",
       "      <td>NaN</td>\n",
       "    </tr>\n",
       "    <tr>\n",
       "      <th>6</th>\n",
       "      <td>Canada</td>\n",
       "      <td>stickers</td>\n",
       "      <td>NaN</td>\n",
       "    </tr>\n",
       "  </tbody>\n",
       "</table>\n",
       "</div>"
      ],
      "text/plain": [
       "     country       sty quanity\n",
       "0        Pak      pens     NaN\n",
       "1    Germany    colors     NaN\n",
       "2     Turkey   pencils     NaN\n",
       "3  Indonesia   erasers     NaN\n",
       "4      India      glue     NaN\n",
       "5     Saudia  pointers     NaN\n",
       "6     Canada  stickers     NaN"
      ]
     },
     "execution_count": 81,
     "metadata": {},
     "output_type": "execute_result"
    }
   ],
   "source": [
    "pd.DataFrame(data,columns=['country','sty','quanity'])"
   ]
  },
  {
   "cell_type": "code",
   "execution_count": 82,
   "id": "d30fe213",
   "metadata": {},
   "outputs": [
    {
     "data": {
      "text/plain": [
       "0        pens\n",
       "1      colors\n",
       "2     pencils\n",
       "3     erasers\n",
       "4        glue\n",
       "5    pointers\n",
       "6    stickers\n",
       "Name: sty, dtype: object"
      ]
     },
     "execution_count": 82,
     "metadata": {},
     "output_type": "execute_result"
    }
   ],
   "source": [
    "frame.sty"
   ]
  },
  {
   "cell_type": "code",
   "execution_count": 83,
   "id": "95774e24",
   "metadata": {},
   "outputs": [
    {
     "data": {
      "text/plain": [
       "0          Pak\n",
       "1      Germany\n",
       "2       Turkey\n",
       "3    Indonesia\n",
       "4        India\n",
       "5       Saudia\n",
       "6       Canada\n",
       "Name: country, dtype: object"
      ]
     },
     "execution_count": 83,
     "metadata": {},
     "output_type": "execute_result"
    }
   ],
   "source": [
    "frame.country"
   ]
  },
  {
   "cell_type": "code",
   "execution_count": 85,
   "id": "16ba4941",
   "metadata": {},
   "outputs": [
    {
     "data": {
      "text/plain": [
       "sty         pens\n",
       "quantity      10\n",
       "country      Pak\n",
       "Name: 0, dtype: object"
      ]
     },
     "execution_count": 85,
     "metadata": {},
     "output_type": "execute_result"
    }
   ],
   "source": [
    "frame.loc[0]"
   ]
  },
  {
   "cell_type": "code",
   "execution_count": 86,
   "id": "f2c7a02f",
   "metadata": {},
   "outputs": [],
   "source": [
    "frame['rating'] =10"
   ]
  },
  {
   "cell_type": "code",
   "execution_count": 87,
   "id": "8e519510",
   "metadata": {},
   "outputs": [
    {
     "data": {
      "text/html": [
       "<div>\n",
       "<style scoped>\n",
       "    .dataframe tbody tr th:only-of-type {\n",
       "        vertical-align: middle;\n",
       "    }\n",
       "\n",
       "    .dataframe tbody tr th {\n",
       "        vertical-align: top;\n",
       "    }\n",
       "\n",
       "    .dataframe thead th {\n",
       "        text-align: right;\n",
       "    }\n",
       "</style>\n",
       "<table border=\"1\" class=\"dataframe\">\n",
       "  <thead>\n",
       "    <tr style=\"text-align: right;\">\n",
       "      <th></th>\n",
       "      <th>sty</th>\n",
       "      <th>quantity</th>\n",
       "      <th>country</th>\n",
       "      <th>rating</th>\n",
       "    </tr>\n",
       "  </thead>\n",
       "  <tbody>\n",
       "    <tr>\n",
       "      <th>0</th>\n",
       "      <td>pens</td>\n",
       "      <td>10</td>\n",
       "      <td>Pak</td>\n",
       "      <td>10</td>\n",
       "    </tr>\n",
       "    <tr>\n",
       "      <th>1</th>\n",
       "      <td>colors</td>\n",
       "      <td>122</td>\n",
       "      <td>Germany</td>\n",
       "      <td>10</td>\n",
       "    </tr>\n",
       "    <tr>\n",
       "      <th>2</th>\n",
       "      <td>pencils</td>\n",
       "      <td>23</td>\n",
       "      <td>Turkey</td>\n",
       "      <td>10</td>\n",
       "    </tr>\n",
       "    <tr>\n",
       "      <th>3</th>\n",
       "      <td>erasers</td>\n",
       "      <td>43</td>\n",
       "      <td>Indonesia</td>\n",
       "      <td>10</td>\n",
       "    </tr>\n",
       "    <tr>\n",
       "      <th>4</th>\n",
       "      <td>glue</td>\n",
       "      <td>34</td>\n",
       "      <td>India</td>\n",
       "      <td>10</td>\n",
       "    </tr>\n",
       "    <tr>\n",
       "      <th>5</th>\n",
       "      <td>pointers</td>\n",
       "      <td>5</td>\n",
       "      <td>Saudia</td>\n",
       "      <td>10</td>\n",
       "    </tr>\n",
       "    <tr>\n",
       "      <th>6</th>\n",
       "      <td>stickers</td>\n",
       "      <td>43</td>\n",
       "      <td>Canada</td>\n",
       "      <td>10</td>\n",
       "    </tr>\n",
       "  </tbody>\n",
       "</table>\n",
       "</div>"
      ],
      "text/plain": [
       "        sty  quantity    country  rating\n",
       "0      pens        10        Pak      10\n",
       "1    colors       122    Germany      10\n",
       "2   pencils        23     Turkey      10\n",
       "3   erasers        43  Indonesia      10\n",
       "4      glue        34      India      10\n",
       "5  pointers         5     Saudia      10\n",
       "6  stickers        43     Canada      10"
      ]
     },
     "execution_count": 87,
     "metadata": {},
     "output_type": "execute_result"
    }
   ],
   "source": [
    "frame"
   ]
  },
  {
   "cell_type": "code",
   "execution_count": 99,
   "id": "c28a0a3c",
   "metadata": {},
   "outputs": [
    {
     "data": {
      "text/html": [
       "<div>\n",
       "<style scoped>\n",
       "    .dataframe tbody tr th:only-of-type {\n",
       "        vertical-align: middle;\n",
       "    }\n",
       "\n",
       "    .dataframe tbody tr th {\n",
       "        vertical-align: top;\n",
       "    }\n",
       "\n",
       "    .dataframe thead th {\n",
       "        text-align: right;\n",
       "    }\n",
       "</style>\n",
       "<table border=\"1\" class=\"dataframe\">\n",
       "  <thead>\n",
       "    <tr style=\"text-align: right;\">\n",
       "      <th></th>\n",
       "      <th>sty</th>\n",
       "      <th>quantity</th>\n",
       "      <th>country</th>\n",
       "      <th>rating</th>\n",
       "    </tr>\n",
       "  </thead>\n",
       "  <tbody>\n",
       "    <tr>\n",
       "      <th>0</th>\n",
       "      <td>pens</td>\n",
       "      <td>10</td>\n",
       "      <td>Pak</td>\n",
       "      <td>0.0</td>\n",
       "    </tr>\n",
       "    <tr>\n",
       "      <th>1</th>\n",
       "      <td>colors</td>\n",
       "      <td>122</td>\n",
       "      <td>Germany</td>\n",
       "      <td>1.0</td>\n",
       "    </tr>\n",
       "    <tr>\n",
       "      <th>2</th>\n",
       "      <td>pencils</td>\n",
       "      <td>23</td>\n",
       "      <td>Turkey</td>\n",
       "      <td>2.0</td>\n",
       "    </tr>\n",
       "    <tr>\n",
       "      <th>3</th>\n",
       "      <td>erasers</td>\n",
       "      <td>43</td>\n",
       "      <td>Indonesia</td>\n",
       "      <td>3.0</td>\n",
       "    </tr>\n",
       "    <tr>\n",
       "      <th>4</th>\n",
       "      <td>glue</td>\n",
       "      <td>34</td>\n",
       "      <td>India</td>\n",
       "      <td>4.0</td>\n",
       "    </tr>\n",
       "    <tr>\n",
       "      <th>5</th>\n",
       "      <td>pointers</td>\n",
       "      <td>5</td>\n",
       "      <td>Saudia</td>\n",
       "      <td>5.0</td>\n",
       "    </tr>\n",
       "    <tr>\n",
       "      <th>6</th>\n",
       "      <td>stickers</td>\n",
       "      <td>43</td>\n",
       "      <td>Canada</td>\n",
       "      <td>6.0</td>\n",
       "    </tr>\n",
       "  </tbody>\n",
       "</table>\n",
       "</div>"
      ],
      "text/plain": [
       "        sty  quantity    country  rating\n",
       "0      pens        10        Pak     0.0\n",
       "1    colors       122    Germany     1.0\n",
       "2   pencils        23     Turkey     2.0\n",
       "3   erasers        43  Indonesia     3.0\n",
       "4      glue        34      India     4.0\n",
       "5  pointers         5     Saudia     5.0\n",
       "6  stickers        43     Canada     6.0"
      ]
     },
     "execution_count": 99,
     "metadata": {},
     "output_type": "execute_result"
    }
   ],
   "source": [
    "frame['rating']=np.arange(7.)\n",
    "frame"
   ]
  },
  {
   "cell_type": "code",
   "execution_count": 102,
   "id": "b7959337",
   "metadata": {},
   "outputs": [
    {
     "data": {
      "text/html": [
       "<div>\n",
       "<style scoped>\n",
       "    .dataframe tbody tr th:only-of-type {\n",
       "        vertical-align: middle;\n",
       "    }\n",
       "\n",
       "    .dataframe tbody tr th {\n",
       "        vertical-align: top;\n",
       "    }\n",
       "\n",
       "    .dataframe thead th {\n",
       "        text-align: right;\n",
       "    }\n",
       "</style>\n",
       "<table border=\"1\" class=\"dataframe\">\n",
       "  <thead>\n",
       "    <tr style=\"text-align: right;\">\n",
       "      <th></th>\n",
       "      <th>sty</th>\n",
       "      <th>quantity</th>\n",
       "      <th>country</th>\n",
       "      <th>rating</th>\n",
       "    </tr>\n",
       "  </thead>\n",
       "  <tbody>\n",
       "    <tr>\n",
       "      <th>0</th>\n",
       "      <td>pens</td>\n",
       "      <td>10</td>\n",
       "      <td>Pak</td>\n",
       "      <td>NaN</td>\n",
       "    </tr>\n",
       "    <tr>\n",
       "      <th>1</th>\n",
       "      <td>colors</td>\n",
       "      <td>122</td>\n",
       "      <td>Germany</td>\n",
       "      <td>3.5</td>\n",
       "    </tr>\n",
       "    <tr>\n",
       "      <th>2</th>\n",
       "      <td>pencils</td>\n",
       "      <td>23</td>\n",
       "      <td>Turkey</td>\n",
       "      <td>6.7</td>\n",
       "    </tr>\n",
       "    <tr>\n",
       "      <th>3</th>\n",
       "      <td>erasers</td>\n",
       "      <td>43</td>\n",
       "      <td>Indonesia</td>\n",
       "      <td>NaN</td>\n",
       "    </tr>\n",
       "    <tr>\n",
       "      <th>4</th>\n",
       "      <td>glue</td>\n",
       "      <td>34</td>\n",
       "      <td>India</td>\n",
       "      <td>1.3</td>\n",
       "    </tr>\n",
       "    <tr>\n",
       "      <th>5</th>\n",
       "      <td>pointers</td>\n",
       "      <td>5</td>\n",
       "      <td>Saudia</td>\n",
       "      <td>NaN</td>\n",
       "    </tr>\n",
       "    <tr>\n",
       "      <th>6</th>\n",
       "      <td>stickers</td>\n",
       "      <td>43</td>\n",
       "      <td>Canada</td>\n",
       "      <td>2.4</td>\n",
       "    </tr>\n",
       "  </tbody>\n",
       "</table>\n",
       "</div>"
      ],
      "text/plain": [
       "        sty  quantity    country  rating\n",
       "0      pens        10        Pak     NaN\n",
       "1    colors       122    Germany     3.5\n",
       "2   pencils        23     Turkey     6.7\n",
       "3   erasers        43  Indonesia     NaN\n",
       "4      glue        34      India     1.3\n",
       "5  pointers         5     Saudia     NaN\n",
       "6  stickers        43     Canada     2.4"
      ]
     },
     "execution_count": 102,
     "metadata": {},
     "output_type": "execute_result"
    }
   ],
   "source": [
    "val =pd.Series([1.3,2.4,6.7,3.5],index=[4,6,2,1])\n",
    "frame['rating']=val\n",
    "frame"
   ]
  },
  {
   "cell_type": "code",
   "execution_count": 103,
   "id": "09ed61a6",
   "metadata": {},
   "outputs": [
    {
     "data": {
      "text/html": [
       "<div>\n",
       "<style scoped>\n",
       "    .dataframe tbody tr th:only-of-type {\n",
       "        vertical-align: middle;\n",
       "    }\n",
       "\n",
       "    .dataframe tbody tr th {\n",
       "        vertical-align: top;\n",
       "    }\n",
       "\n",
       "    .dataframe thead th {\n",
       "        text-align: right;\n",
       "    }\n",
       "</style>\n",
       "<table border=\"1\" class=\"dataframe\">\n",
       "  <thead>\n",
       "    <tr style=\"text-align: right;\">\n",
       "      <th></th>\n",
       "      <th>sty</th>\n",
       "      <th>quantity</th>\n",
       "      <th>country</th>\n",
       "      <th>rating</th>\n",
       "      <th>eastern</th>\n",
       "    </tr>\n",
       "  </thead>\n",
       "  <tbody>\n",
       "    <tr>\n",
       "      <th>0</th>\n",
       "      <td>pens</td>\n",
       "      <td>10</td>\n",
       "      <td>Pak</td>\n",
       "      <td>NaN</td>\n",
       "      <td>True</td>\n",
       "    </tr>\n",
       "    <tr>\n",
       "      <th>1</th>\n",
       "      <td>colors</td>\n",
       "      <td>122</td>\n",
       "      <td>Germany</td>\n",
       "      <td>3.5</td>\n",
       "      <td>False</td>\n",
       "    </tr>\n",
       "    <tr>\n",
       "      <th>2</th>\n",
       "      <td>pencils</td>\n",
       "      <td>23</td>\n",
       "      <td>Turkey</td>\n",
       "      <td>6.7</td>\n",
       "      <td>False</td>\n",
       "    </tr>\n",
       "    <tr>\n",
       "      <th>3</th>\n",
       "      <td>erasers</td>\n",
       "      <td>43</td>\n",
       "      <td>Indonesia</td>\n",
       "      <td>NaN</td>\n",
       "      <td>False</td>\n",
       "    </tr>\n",
       "    <tr>\n",
       "      <th>4</th>\n",
       "      <td>glue</td>\n",
       "      <td>34</td>\n",
       "      <td>India</td>\n",
       "      <td>1.3</td>\n",
       "      <td>False</td>\n",
       "    </tr>\n",
       "    <tr>\n",
       "      <th>5</th>\n",
       "      <td>pointers</td>\n",
       "      <td>5</td>\n",
       "      <td>Saudia</td>\n",
       "      <td>NaN</td>\n",
       "      <td>False</td>\n",
       "    </tr>\n",
       "    <tr>\n",
       "      <th>6</th>\n",
       "      <td>stickers</td>\n",
       "      <td>43</td>\n",
       "      <td>Canada</td>\n",
       "      <td>2.4</td>\n",
       "      <td>False</td>\n",
       "    </tr>\n",
       "  </tbody>\n",
       "</table>\n",
       "</div>"
      ],
      "text/plain": [
       "        sty  quantity    country  rating  eastern\n",
       "0      pens        10        Pak     NaN     True\n",
       "1    colors       122    Germany     3.5    False\n",
       "2   pencils        23     Turkey     6.7    False\n",
       "3   erasers        43  Indonesia     NaN    False\n",
       "4      glue        34      India     1.3    False\n",
       "5  pointers         5     Saudia     NaN    False\n",
       "6  stickers        43     Canada     2.4    False"
      ]
     },
     "execution_count": 103,
     "metadata": {},
     "output_type": "execute_result"
    }
   ],
   "source": [
    "frame['eastern']=frame.country=='Pak'\n",
    "frame"
   ]
  },
  {
   "cell_type": "code",
   "execution_count": 104,
   "id": "21d5fd3e",
   "metadata": {},
   "outputs": [
    {
     "data": {
      "text/html": [
       "<div>\n",
       "<style scoped>\n",
       "    .dataframe tbody tr th:only-of-type {\n",
       "        vertical-align: middle;\n",
       "    }\n",
       "\n",
       "    .dataframe tbody tr th {\n",
       "        vertical-align: top;\n",
       "    }\n",
       "\n",
       "    .dataframe thead th {\n",
       "        text-align: right;\n",
       "    }\n",
       "</style>\n",
       "<table border=\"1\" class=\"dataframe\">\n",
       "  <thead>\n",
       "    <tr style=\"text-align: right;\">\n",
       "      <th></th>\n",
       "      <th>sty</th>\n",
       "      <th>quantity</th>\n",
       "      <th>country</th>\n",
       "      <th>rating</th>\n",
       "    </tr>\n",
       "  </thead>\n",
       "  <tbody>\n",
       "    <tr>\n",
       "      <th>0</th>\n",
       "      <td>pens</td>\n",
       "      <td>10</td>\n",
       "      <td>Pak</td>\n",
       "      <td>NaN</td>\n",
       "    </tr>\n",
       "    <tr>\n",
       "      <th>1</th>\n",
       "      <td>colors</td>\n",
       "      <td>122</td>\n",
       "      <td>Germany</td>\n",
       "      <td>3.5</td>\n",
       "    </tr>\n",
       "    <tr>\n",
       "      <th>2</th>\n",
       "      <td>pencils</td>\n",
       "      <td>23</td>\n",
       "      <td>Turkey</td>\n",
       "      <td>6.7</td>\n",
       "    </tr>\n",
       "    <tr>\n",
       "      <th>3</th>\n",
       "      <td>erasers</td>\n",
       "      <td>43</td>\n",
       "      <td>Indonesia</td>\n",
       "      <td>NaN</td>\n",
       "    </tr>\n",
       "    <tr>\n",
       "      <th>4</th>\n",
       "      <td>glue</td>\n",
       "      <td>34</td>\n",
       "      <td>India</td>\n",
       "      <td>1.3</td>\n",
       "    </tr>\n",
       "    <tr>\n",
       "      <th>5</th>\n",
       "      <td>pointers</td>\n",
       "      <td>5</td>\n",
       "      <td>Saudia</td>\n",
       "      <td>NaN</td>\n",
       "    </tr>\n",
       "    <tr>\n",
       "      <th>6</th>\n",
       "      <td>stickers</td>\n",
       "      <td>43</td>\n",
       "      <td>Canada</td>\n",
       "      <td>2.4</td>\n",
       "    </tr>\n",
       "  </tbody>\n",
       "</table>\n",
       "</div>"
      ],
      "text/plain": [
       "        sty  quantity    country  rating\n",
       "0      pens        10        Pak     NaN\n",
       "1    colors       122    Germany     3.5\n",
       "2   pencils        23     Turkey     6.7\n",
       "3   erasers        43  Indonesia     NaN\n",
       "4      glue        34      India     1.3\n",
       "5  pointers         5     Saudia     NaN\n",
       "6  stickers        43     Canada     2.4"
      ]
     },
     "execution_count": 104,
     "metadata": {},
     "output_type": "execute_result"
    }
   ],
   "source": [
    "del frame['eastern']\n",
    "frame"
   ]
  },
  {
   "cell_type": "code",
   "execution_count": 115,
   "id": "c6f07fd1",
   "metadata": {},
   "outputs": [
    {
     "data": {
      "text/plain": [
       "Index(['pens', 'glue'], dtype='object')"
      ]
     },
     "execution_count": 115,
     "metadata": {},
     "output_type": "execute_result"
    }
   ],
   "source": [
    "frame3.columns"
   ]
  },
  {
   "cell_type": "code",
   "execution_count": 111,
   "id": "f3d9be08",
   "metadata": {},
   "outputs": [
    {
     "data": {
      "text/html": [
       "<div>\n",
       "<style scoped>\n",
       "    .dataframe tbody tr th:only-of-type {\n",
       "        vertical-align: middle;\n",
       "    }\n",
       "\n",
       "    .dataframe tbody tr th {\n",
       "        vertical-align: top;\n",
       "    }\n",
       "\n",
       "    .dataframe thead th {\n",
       "        text-align: right;\n",
       "    }\n",
       "</style>\n",
       "<table border=\"1\" class=\"dataframe\">\n",
       "  <thead>\n",
       "    <tr style=\"text-align: right;\">\n",
       "      <th></th>\n",
       "      <th>india</th>\n",
       "      <th>pak</th>\n",
       "    </tr>\n",
       "  </thead>\n",
       "  <tbody>\n",
       "    <tr>\n",
       "      <th>pens</th>\n",
       "      <td>34.0</td>\n",
       "      <td>NaN</td>\n",
       "    </tr>\n",
       "    <tr>\n",
       "      <th>glue</th>\n",
       "      <td>NaN</td>\n",
       "      <td>233.0</td>\n",
       "    </tr>\n",
       "  </tbody>\n",
       "</table>\n",
       "</div>"
      ],
      "text/plain": [
       "      india    pak\n",
       "pens   34.0    NaN\n",
       "glue    NaN  233.0"
      ]
     },
     "execution_count": 111,
     "metadata": {},
     "output_type": "execute_result"
    }
   ],
   "source": [
    "frame3.T"
   ]
  },
  {
   "cell_type": "code",
   "execution_count": 117,
   "id": "190be209",
   "metadata": {},
   "outputs": [
    {
     "data": {
      "text/plain": [
       "array([['pens', 10, 'Pak', nan],\n",
       "       ['colors', 122, 'Germany', 3.5],\n",
       "       ['pencils', 23, 'Turkey', 6.7],\n",
       "       ['erasers', 43, 'Indonesia', nan],\n",
       "       ['glue', 34, 'India', 1.3],\n",
       "       ['pointers', 5, 'Saudia', nan],\n",
       "       ['stickers', 43, 'Canada', 2.4]], dtype=object)"
      ]
     },
     "execution_count": 117,
     "metadata": {},
     "output_type": "execute_result"
    }
   ],
   "source": [
    "frame.values"
   ]
  },
  {
   "cell_type": "code",
   "execution_count": 118,
   "id": "97b9f444",
   "metadata": {},
   "outputs": [
    {
     "data": {
      "text/plain": [
       "array([[ 34.,  nan],\n",
       "       [ nan, 233.]])"
      ]
     },
     "execution_count": 118,
     "metadata": {},
     "output_type": "execute_result"
    }
   ],
   "source": [
    "frame3.values"
   ]
  },
  {
   "cell_type": "code",
   "execution_count": null,
   "id": "c500933f",
   "metadata": {},
   "outputs": [],
   "source": []
  }
 ],
 "metadata": {
  "kernelspec": {
   "display_name": "Python 3 (ipykernel)",
   "language": "python",
   "name": "python3"
  },
  "language_info": {
   "codemirror_mode": {
    "name": "ipython",
    "version": 3
   },
   "file_extension": ".py",
   "mimetype": "text/x-python",
   "name": "python",
   "nbconvert_exporter": "python",
   "pygments_lexer": "ipython3",
   "version": "3.10.9"
  }
 },
 "nbformat": 4,
 "nbformat_minor": 5
}
