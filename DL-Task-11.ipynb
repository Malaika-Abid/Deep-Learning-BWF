{
 "cells": [
  {
   "cell_type": "code",
   "execution_count": 1,
   "id": "1c0856d0",
   "metadata": {},
   "outputs": [],
   "source": [
    "#Linear Algebra With Numpy"
   ]
  },
  {
   "cell_type": "code",
   "execution_count": 2,
   "id": "f5511174",
   "metadata": {},
   "outputs": [],
   "source": [
    "import numpy as np\n"
   ]
  },
  {
   "cell_type": "code",
   "execution_count": 7,
   "id": "533abf20",
   "metadata": {},
   "outputs": [
    {
     "data": {
      "text/plain": [
       "5"
      ]
     },
     "execution_count": 7,
     "metadata": {},
     "output_type": "execute_result"
    }
   ],
   "source": [
    "#Creating Scalar\n",
    "a= 5\n",
    "a"
   ]
  },
  {
   "cell_type": "code",
   "execution_count": 11,
   "id": "db6bbfc3",
   "metadata": {},
   "outputs": [
    {
     "name": "stdout",
     "output_type": "stream",
     "text": [
      "<class 'list'>\n"
     ]
    }
   ],
   "source": [
    "#Checking type(list or array?)\n",
    "z=[1,2]\n",
    "print(type(z))"
   ]
  },
  {
   "cell_type": "code",
   "execution_count": 14,
   "id": "79452064",
   "metadata": {},
   "outputs": [
    {
     "name": "stdout",
     "output_type": "stream",
     "text": [
      "<class 'numpy.ndarray'>\n"
     ]
    }
   ],
   "source": [
    "s=np.array(z)\n",
    "print(type(s))"
   ]
  },
  {
   "cell_type": "code",
   "execution_count": 17,
   "id": "f34dd411",
   "metadata": {},
   "outputs": [
    {
     "data": {
      "text/plain": [
       "array([[1, 2, 3],\n",
       "       [4, 5, 6],\n",
       "       [7, 8, 9]])"
      ]
     },
     "execution_count": 17,
     "metadata": {},
     "output_type": "execute_result"
    }
   ],
   "source": [
    "arr= np.array([[1,2,3],[4,5,6],[7,8,9]])\n",
    "arr"
   ]
  },
  {
   "cell_type": "code",
   "execution_count": 18,
   "id": "f6533f76",
   "metadata": {},
   "outputs": [
    {
     "data": {
      "text/plain": [
       "array([[2, 4, 5],\n",
       "       [4, 5, 6],\n",
       "       [3, 6, 8]])"
      ]
     },
     "execution_count": 18,
     "metadata": {},
     "output_type": "execute_result"
    }
   ],
   "source": [
    "arr1= np.array([[2,4,5],[4,5,6],[3,6,8]])\n",
    "arr1"
   ]
  },
  {
   "cell_type": "code",
   "execution_count": 19,
   "id": "ac476adf",
   "metadata": {},
   "outputs": [],
   "source": [
    "#Adding Matrices"
   ]
  },
  {
   "cell_type": "code",
   "execution_count": 21,
   "id": "9c63b44b",
   "metadata": {},
   "outputs": [
    {
     "name": "stdout",
     "output_type": "stream",
     "text": [
      "Addition :  [[ 3  6  8]\n",
      " [ 8 10 12]\n",
      " [10 14 17]]\n"
     ]
    }
   ],
   "source": [
    "add = arr + arr1\n",
    "print(\"Addition : \", add)"
   ]
  },
  {
   "cell_type": "code",
   "execution_count": 22,
   "id": "080e6144",
   "metadata": {},
   "outputs": [
    {
     "name": "stdout",
     "output_type": "stream",
     "text": [
      "Subtraction:  [[-1 -2 -2]\n",
      " [ 0  0  0]\n",
      " [ 4  2  1]]\n"
     ]
    }
   ],
   "source": [
    "#Subtraction \n",
    "sub = arr - arr1\n",
    "print(\"Subtraction: \", sub)"
   ]
  },
  {
   "cell_type": "code",
   "execution_count": 27,
   "id": "97643a40",
   "metadata": {},
   "outputs": [
    {
     "name": "stdout",
     "output_type": "stream",
     "text": [
      "[[ 19  32  41]\n",
      " [ 46  77  98]\n",
      " [ 73 122 155]]\n"
     ]
    }
   ],
   "source": [
    "# Multiplication \n",
    "print(np.dot(arr,arr1))"
   ]
  },
  {
   "cell_type": "code",
   "execution_count": 9,
   "id": "cd278602",
   "metadata": {},
   "outputs": [
    {
     "name": "stdout",
     "output_type": "stream",
     "text": [
      "[[  18  138  301]\n",
      " [ 156  547 3018]\n",
      " [  33  271  539]]\n"
     ]
    }
   ],
   "source": [
    "#Multiplication using matmul\n",
    "arr= np.array([[1,2,3],[4,3,45],[2,4,5,]])\n",
    "arr1= np.array([[3,55,6],[3,34,53],[3,5,63]])\n",
    "mul=np.matmul(arr,arr1)\n",
    "print(mul)"
   ]
  },
  {
   "cell_type": "code",
   "execution_count": 28,
   "id": "79eaae44",
   "metadata": {},
   "outputs": [
    {
     "data": {
      "text/plain": [
       "array([[ 2,  4,  6],\n",
       "       [ 8, 10, 12],\n",
       "       [14, 16, 18]])"
      ]
     },
     "execution_count": 28,
     "metadata": {},
     "output_type": "execute_result"
    }
   ],
   "source": [
    "#Multiplication with Scalar\n",
    "arr *2"
   ]
  },
  {
   "cell_type": "code",
   "execution_count": 31,
   "id": "960d9d56",
   "metadata": {},
   "outputs": [
    {
     "name": "stdout",
     "output_type": "stream",
     "text": [
      "1.0\n"
     ]
    }
   ],
   "source": [
    "#Determinant \n",
    "a=[[1,2],[2,5]]\n",
    "print(np.linalg.det(a))\n"
   ]
  },
  {
   "cell_type": "code",
   "execution_count": 32,
   "id": "6e0953ae",
   "metadata": {},
   "outputs": [
    {
     "name": "stdout",
     "output_type": "stream",
     "text": [
      "[[1 4 7]\n",
      " [2 5 8]\n",
      " [3 6 9]]\n"
     ]
    }
   ],
   "source": [
    "#Transpose\n",
    "print(np.transpose(arr))"
   ]
  },
  {
   "cell_type": "code",
   "execution_count": 33,
   "id": "114d153b",
   "metadata": {},
   "outputs": [
    {
     "name": "stdout",
     "output_type": "stream",
     "text": [
      "[[ 5. -2.]\n",
      " [-2.  1.]]\n"
     ]
    }
   ],
   "source": [
    "#Inverse\n",
    "print(np.linalg.inv(a))"
   ]
  },
  {
   "cell_type": "code",
   "execution_count": 34,
   "id": "feb9360e",
   "metadata": {},
   "outputs": [
    {
     "name": "stdout",
     "output_type": "stream",
     "text": [
      "2\n"
     ]
    }
   ],
   "source": [
    "#Rank\n",
    "print(np.linalg.matrix_rank(arr))"
   ]
  },
  {
   "cell_type": "code",
   "execution_count": 20,
   "id": "ed55d059",
   "metadata": {},
   "outputs": [],
   "source": [
    "#Statistics with NumPy"
   ]
  },
  {
   "cell_type": "code",
   "execution_count": 10,
   "id": "4bdb6dc3",
   "metadata": {},
   "outputs": [],
   "source": [
    "import numpy as np\n",
    "import statistics"
   ]
  },
  {
   "cell_type": "code",
   "execution_count": 11,
   "id": "15216574",
   "metadata": {},
   "outputs": [
    {
     "data": {
      "text/plain": [
       "array([ 1,  2,  3,  4,  5, 23, 34, 21])"
      ]
     },
     "execution_count": 11,
     "metadata": {},
     "output_type": "execute_result"
    }
   ],
   "source": [
    "arr=np.array([1,2,3,4,5,23,34,21])\n",
    "arr"
   ]
  },
  {
   "cell_type": "code",
   "execution_count": 12,
   "id": "b968d108",
   "metadata": {},
   "outputs": [
    {
     "name": "stdout",
     "output_type": "stream",
     "text": [
      "Mean of arr : 11\n"
     ]
    }
   ],
   "source": [
    "#Mean\n",
    "print(\"Mean of arr :\", statistics.mean(arr))"
   ]
  },
  {
   "cell_type": "code",
   "execution_count": 13,
   "id": "1be8e7c8",
   "metadata": {},
   "outputs": [
    {
     "name": "stdout",
     "output_type": "stream",
     "text": [
      "4.5\n"
     ]
    }
   ],
   "source": [
    "#Median \n",
    "print(statistics.median(arr))"
   ]
  },
  {
   "cell_type": "code",
   "execution_count": 14,
   "id": "875e7a4e",
   "metadata": {},
   "outputs": [
    {
     "name": "stdout",
     "output_type": "stream",
     "text": [
      "4\n"
     ]
    }
   ],
   "source": [
    "#Median low\n",
    "print(statistics.median_low(arr))"
   ]
  },
  {
   "cell_type": "code",
   "execution_count": 15,
   "id": "d9a5dbac",
   "metadata": {},
   "outputs": [
    {
     "name": "stdout",
     "output_type": "stream",
     "text": [
      "5\n"
     ]
    }
   ],
   "source": [
    "#Median High\n",
    "print(statistics.median_high(arr))"
   ]
  },
  {
   "cell_type": "code",
   "execution_count": 16,
   "id": "fc19eea4",
   "metadata": {},
   "outputs": [
    {
     "name": "stdout",
     "output_type": "stream",
     "text": [
      "1\n"
     ]
    }
   ],
   "source": [
    "#Mode\n",
    "print(statistics.mode(arr))"
   ]
  },
  {
   "cell_type": "code",
   "execution_count": 17,
   "id": "d743ad20",
   "metadata": {},
   "outputs": [
    {
     "name": "stdout",
     "output_type": "stream",
     "text": [
      "157\n"
     ]
    }
   ],
   "source": [
    "#Variance\n",
    "print(statistics.variance(arr))"
   ]
  },
  {
   "cell_type": "code",
   "execution_count": 18,
   "id": "a200ed93",
   "metadata": {},
   "outputs": [
    {
     "name": "stdout",
     "output_type": "stream",
     "text": [
      "12.529964086141668\n"
     ]
    }
   ],
   "source": [
    "#standard deviation \n",
    "print(statistics.stdev(arr))"
   ]
  },
  {
   "cell_type": "code",
   "execution_count": 19,
   "id": "5f2da09e",
   "metadata": {},
   "outputs": [
    {
     "name": "stdout",
     "output_type": "stream",
     "text": [
      "Maximum :  34\n",
      "Minimum :  1\n",
      "33\n"
     ]
    }
   ],
   "source": [
    "#Range (Range = Max value - Min value)\n",
    "maximum =  max(arr)\n",
    "minimum = min(arr)\n",
    "print(\"Maximum : \", maximum)\n",
    "print(\"Minimum : \", minimum )\n",
    "range =maximum -  minimum\n",
    "print(range)"
   ]
  },
  {
   "cell_type": "code",
   "execution_count": null,
   "id": "de12a6c9",
   "metadata": {},
   "outputs": [],
   "source": []
  }
 ],
 "metadata": {
  "kernelspec": {
   "display_name": "Python 3 (ipykernel)",
   "language": "python",
   "name": "python3"
  },
  "language_info": {
   "codemirror_mode": {
    "name": "ipython",
    "version": 3
   },
   "file_extension": ".py",
   "mimetype": "text/x-python",
   "name": "python",
   "nbconvert_exporter": "python",
   "pygments_lexer": "ipython3",
   "version": "3.10.9"
  }
 },
 "nbformat": 4,
 "nbformat_minor": 5
}
